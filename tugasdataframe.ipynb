{
 "cells": [
  {
   "cell_type": "code",
   "execution_count": 2,
   "metadata": {},
   "outputs": [
    {
     "name": "stdout",
     "output_type": "stream",
     "text": [
      "Requirement already satisfied: pandas in c:\\users\\user\\appdata\\local\\programs\\python\\python312\\lib\\site-packages (2.2.3)\n",
      "Requirement already satisfied: numpy>=1.26.0 in c:\\users\\user\\appdata\\local\\programs\\python\\python312\\lib\\site-packages (from pandas) (2.1.1)\n",
      "Requirement already satisfied: python-dateutil>=2.8.2 in c:\\users\\user\\appdata\\local\\programs\\python\\python312\\lib\\site-packages (from pandas) (2.9.0.post0)\n",
      "Requirement already satisfied: pytz>=2020.1 in c:\\users\\user\\appdata\\local\\programs\\python\\python312\\lib\\site-packages (from pandas) (2024.2)\n",
      "Requirement already satisfied: tzdata>=2022.7 in c:\\users\\user\\appdata\\local\\programs\\python\\python312\\lib\\site-packages (from pandas) (2024.1)\n",
      "Requirement already satisfied: six>=1.5 in c:\\users\\user\\appdata\\local\\programs\\python\\python312\\lib\\site-packages (from python-dateutil>=2.8.2->pandas) (1.16.0)\n"
     ]
    },
    {
     "name": "stderr",
     "output_type": "stream",
     "text": [
      "\n",
      "[notice] A new release of pip is available: 23.2.1 -> 24.3.1\n",
      "[notice] To update, run: python.exe -m pip install --upgrade pip\n"
     ]
    }
   ],
   "source": [
    "!pip install pandas\n"
   ]
  },
  {
   "cell_type": "code",
   "execution_count": 16,
   "metadata": {},
   "outputs": [
    {
     "name": "stdout",
     "output_type": "stream",
     "text": [
      "    nama_kabupaten_kota  jumlah_produksi_sampah  tahun\n",
      "0       KABUPATEN BOGOR                 1511.15   2015\n",
      "1    KABUPATEN SUKABUMI                  419.01   2015\n",
      "2     KABUPATEN CIANJUR                  981.41   2015\n",
      "3     KABUPATEN BANDUNG                 1895.94   2015\n",
      "4       KABUPATEN GARUT                  464.74   2015\n",
      "..                  ...                     ...    ...\n",
      "184         KOTA BEKASI                 1500.77   2021\n",
      "185          KOTA DEPOK                 1418.87   2021\n",
      "186         KOTA CIMAHI                  193.36   2021\n",
      "187    KOTA TASIKMALAYA                  295.87   2021\n",
      "188         KOTA BANJAR                   60.29   2021\n",
      "\n",
      "[189 rows x 3 columns]\n"
     ]
    }
   ],
   "source": [
    "# no 1 buat data frame\n",
    "import pandas as pd \n",
    "from collections import defaultdict\n",
    "\n",
    "dataframe_sampah = pd.read_csv(\"data.csv\", \n",
    "usecols=['nama_kabupaten_kota', 'jumlah_produksi_sampah', 'tahun']) \n",
    "dataframe_sampah.dropna(inplace=True) \n",
    "print(dataframe_sampah)"
   ]
  }
 ],
 "metadata": {
  "kernelspec": {
   "display_name": "Python 3",
   "language": "python",
   "name": "python3"
  },
  "language_info": {
   "codemirror_mode": {
    "name": "ipython",
    "version": 3
   },
   "file_extension": ".py",
   "mimetype": "text/x-python",
   "name": "python",
   "nbconvert_exporter": "python",
   "pygments_lexer": "ipython3",
   "version": "3.12.0"
  }
 },
 "nbformat": 4,
 "nbformat_minor": 2
}
